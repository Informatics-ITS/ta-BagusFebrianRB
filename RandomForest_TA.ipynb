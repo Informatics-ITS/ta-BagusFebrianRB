{
  "nbformat": 4,
  "nbformat_minor": 0,
  "metadata": {
    "colab": {
      "provenance": []
    },
    "kernelspec": {
      "name": "python3",
      "display_name": "Python 3"
    },
    "language_info": {
      "name": "python"
    }
  },
  "cells": [
    {
      "cell_type": "code",
      "execution_count": null,
      "metadata": {
        "colab": {
          "base_uri": "https://localhost:8080/"
        },
        "id": "attdC0-Icmn2",
        "outputId": "94cef40f-b2a0-4c81-9ff4-e414d758aa91"
      },
      "outputs": [
        {
          "output_type": "stream",
          "name": "stdout",
          "text": [
            "Requirement already satisfied: yfinance in /usr/local/lib/python3.11/dist-packages (0.2.62)\n",
            "Collecting yfinance\n",
            "  Downloading yfinance-0.2.63-py2.py3-none-any.whl.metadata (5.8 kB)\n",
            "Requirement already satisfied: pandas>=1.3.0 in /usr/local/lib/python3.11/dist-packages (from yfinance) (2.2.2)\n",
            "Requirement already satisfied: numpy>=1.16.5 in /usr/local/lib/python3.11/dist-packages (from yfinance) (2.0.2)\n",
            "Requirement already satisfied: requests>=2.31 in /usr/local/lib/python3.11/dist-packages (from yfinance) (2.32.3)\n",
            "Requirement already satisfied: multitasking>=0.0.7 in /usr/local/lib/python3.11/dist-packages (from yfinance) (0.0.11)\n",
            "Requirement already satisfied: platformdirs>=2.0.0 in /usr/local/lib/python3.11/dist-packages (from yfinance) (4.3.8)\n",
            "Requirement already satisfied: pytz>=2022.5 in /usr/local/lib/python3.11/dist-packages (from yfinance) (2025.2)\n",
            "Requirement already satisfied: frozendict>=2.3.4 in /usr/local/lib/python3.11/dist-packages (from yfinance) (2.4.6)\n",
            "Requirement already satisfied: peewee>=3.16.2 in /usr/local/lib/python3.11/dist-packages (from yfinance) (3.18.1)\n",
            "Requirement already satisfied: beautifulsoup4>=4.11.1 in /usr/local/lib/python3.11/dist-packages (from yfinance) (4.13.4)\n",
            "Requirement already satisfied: curl_cffi>=0.7 in /usr/local/lib/python3.11/dist-packages (from yfinance) (0.11.3)\n",
            "Requirement already satisfied: protobuf>=3.19.0 in /usr/local/lib/python3.11/dist-packages (from yfinance) (5.29.5)\n",
            "Requirement already satisfied: websockets>=13.0 in /usr/local/lib/python3.11/dist-packages (from yfinance) (15.0.1)\n",
            "Requirement already satisfied: soupsieve>1.2 in /usr/local/lib/python3.11/dist-packages (from beautifulsoup4>=4.11.1->yfinance) (2.7)\n",
            "Requirement already satisfied: typing-extensions>=4.0.0 in /usr/local/lib/python3.11/dist-packages (from beautifulsoup4>=4.11.1->yfinance) (4.14.0)\n",
            "Requirement already satisfied: cffi>=1.12.0 in /usr/local/lib/python3.11/dist-packages (from curl_cffi>=0.7->yfinance) (1.17.1)\n",
            "Requirement already satisfied: certifi>=2024.2.2 in /usr/local/lib/python3.11/dist-packages (from curl_cffi>=0.7->yfinance) (2025.4.26)\n",
            "Requirement already satisfied: python-dateutil>=2.8.2 in /usr/local/lib/python3.11/dist-packages (from pandas>=1.3.0->yfinance) (2.9.0.post0)\n",
            "Requirement already satisfied: tzdata>=2022.7 in /usr/local/lib/python3.11/dist-packages (from pandas>=1.3.0->yfinance) (2025.2)\n",
            "Requirement already satisfied: charset-normalizer<4,>=2 in /usr/local/lib/python3.11/dist-packages (from requests>=2.31->yfinance) (3.4.2)\n",
            "Requirement already satisfied: idna<4,>=2.5 in /usr/local/lib/python3.11/dist-packages (from requests>=2.31->yfinance) (3.10)\n",
            "Requirement already satisfied: urllib3<3,>=1.21.1 in /usr/local/lib/python3.11/dist-packages (from requests>=2.31->yfinance) (2.4.0)\n",
            "Requirement already satisfied: pycparser in /usr/local/lib/python3.11/dist-packages (from cffi>=1.12.0->curl_cffi>=0.7->yfinance) (2.22)\n",
            "Requirement already satisfied: six>=1.5 in /usr/local/lib/python3.11/dist-packages (from python-dateutil>=2.8.2->pandas>=1.3.0->yfinance) (1.17.0)\n",
            "Downloading yfinance-0.2.63-py2.py3-none-any.whl (118 kB)\n",
            "\u001b[2K   \u001b[90m━━━━━━━━━━━━━━━━━━━━━━━━━━━━━━━━━━━━━━━━\u001b[0m \u001b[32m118.4/118.4 kB\u001b[0m \u001b[31m2.1 MB/s\u001b[0m eta \u001b[36m0:00:00\u001b[0m\n",
            "\u001b[?25hInstalling collected packages: yfinance\n",
            "  Attempting uninstall: yfinance\n",
            "    Found existing installation: yfinance 0.2.62\n",
            "    Uninstalling yfinance-0.2.62:\n",
            "      Successfully uninstalled yfinance-0.2.62\n",
            "Successfully installed yfinance-0.2.63\n"
          ]
        }
      ],
      "source": [
        "pip install yfinance --upgrade"
      ]
    },
    {
      "cell_type": "code",
      "source": [
        "import pandas as pd\n",
        "import numpy as np\n",
        "import yfinance as yf\n",
        "from datetime import datetime\n",
        "from sklearn.preprocessing import MinMaxScaler\n",
        "from sklearn.ensemble import RandomForestRegressor\n",
        "from sklearn.model_selection import train_test_split\n",
        "from sklearn.metrics import mean_squared_error, mean_absolute_error, r2_score\n",
        "import matplotlib.pyplot as plt\n",
        "import os\n",
        "from sklearn.model_selection import train_test_split, GridSearchCV"
      ],
      "metadata": {
        "id": "w1PB9-A1c0Qb"
      },
      "execution_count": null,
      "outputs": []
    },
    {
      "cell_type": "code",
      "source": [
        "tickers = [\n",
        "    'ACES.JK', 'ADMR.JK', 'ADRO.JK', 'AKRA.JK', 'AMMN.JK', 'AMRT.JK', 'ANTM.JK',\n",
        "    'ARTO.JK', 'ASII.JK', 'BBCA.JK', 'BBNI.JK', 'BBRI.JK', 'BBTN.JK', 'BMRI.JK',\n",
        "    'BRIS.JK', 'BRPT.JK', 'CPIN.JK', 'CTRA.JK', 'ESSA.JK', 'EXCL.JK', 'GOTO.JK',\n",
        "    'ICBP.JK', 'INCO.JK', 'INDF.JK', 'INKP.JK', 'ISAT.JK', 'ITMG.JK', 'JPFA.JK',\n",
        "    'JSMR.JK', 'KLBF.JK', 'MAPA.JK', 'MAPI.JK', 'MBMA.JK', 'MDKA.JK', 'MEDC.JK',\n",
        "    'PGAS.JK', 'PGEO.JK', 'PTBA.JK', 'SIDO.JK', 'SMGR.JK', 'SMRA.JK', 'TLKM.JK',\n",
        "    'TOWR.JK', 'UNTR.JK', 'UNVR.JK'\n",
        "]"
      ],
      "metadata": {
        "id": "jDJi71z9dFpb"
      },
      "execution_count": null,
      "outputs": []
    },
    {
      "cell_type": "code",
      "source": [
        "# Folder Google Drive untuk simpan plot\n",
        "# plot_dir = '/content/drive/MyDrive/TA/colab2_RF'\n",
        "# os.makedirs(plot_dir, exist_ok=True)"
      ],
      "metadata": {
        "id": "GowYnfuj1cRw"
      },
      "execution_count": null,
      "outputs": []
    },
    {
      "cell_type": "code",
      "source": [
        "# Range Data\n",
        "end_date = datetime(2024, 12, 31)\n",
        "start_date = datetime(2020, 1, 1)\n",
        "\n",
        "# Download dari yfinance\n",
        "data_frames = []\n",
        "for ticker in tickers:\n",
        "    stock = yf.Ticker(ticker)\n",
        "    df = stock.history(start=start_date, end=end_date)\n",
        "    df = df[['Close']].rename(columns={'Close': ticker})\n",
        "    data_frames.append(df)\n",
        "\n",
        "# Combine df\n",
        "combined_df = pd.concat(data_frames, axis=1)\n",
        "\n",
        "# Simpan ke csv\n",
        "combined_df.to_csv(\"LQ45_stocks_close_data20-24.csv\", index_label='Date')\n",
        "print(\"Data has been saved to LQ45_stocks_close_data.csv\")"
      ],
      "metadata": {
        "colab": {
          "base_uri": "https://localhost:8080/"
        },
        "id": "oKLcY287dNnu",
        "outputId": "33b5eabf-ab3d-4a87-c041-9523c616aa97"
      },
      "execution_count": null,
      "outputs": [
        {
          "output_type": "stream",
          "name": "stdout",
          "text": [
            "Data has been saved to LQ45_stocks_close_data.csv\n"
          ]
        }
      ]
    },
    {
      "cell_type": "code",
      "source": [
        "data = pd.read_csv('LQ45_stocks_close_data20-24.csv', parse_dates=['Date'], index_col='Date')\n",
        "\n",
        "# Jumlah saham dan baris sebelum filter\n",
        "print(f\"📊 Sebelum filter:\")\n",
        "print(f\"Jumlah saham (kolom): {data.shape[1]}\")\n",
        "print(f\"Jumlah tanggal (baris): {data.shape[0]}\")\n",
        "print(\"\\nJumlah nilai null per saham:\")\n",
        "print(data.isnull().sum())\n",
        "\n",
        "threshold = 0.9 * len(data)\n",
        "data = data.loc[:, data.notnull().sum() > threshold]\n",
        "\n",
        "data.fillna(method='ffill', inplace=True)\n",
        "data.dropna(inplace=True)\n",
        "\n",
        "# Jumlah saham dan baris setelah filter\n",
        "print(f\"\\n✅ Setelah filter:\")\n",
        "print(f\"Jumlah saham (kolom): {data.shape[1]}\")\n",
        "print(f\"Jumlah tanggal (baris): {data.shape[0]}\")\n",
        "print(\"\\nJumlah nilai null per saham setelah filter:\")\n",
        "print(data.isnull().sum())"
      ],
      "metadata": {
        "id": "2ugYwi1edRzQ",
        "colab": {
          "base_uri": "https://localhost:8080/"
        },
        "outputId": "0b058662-eb1f-447e-d6c4-1fe7390235ae"
      },
      "execution_count": null,
      "outputs": [
        {
          "output_type": "stream",
          "name": "stdout",
          "text": [
            "📊 Sebelum filter:\n",
            "Jumlah saham (kolom): 45\n",
            "Jumlah tanggal (baris): 1211\n",
            "\n",
            "Jumlah nilai null per saham:\n",
            "ACES.JK      0\n",
            "ADMR.JK    489\n",
            "ADRO.JK      0\n",
            "AKRA.JK      0\n",
            "AMMN.JK    853\n",
            "AMRT.JK      0\n",
            "ANTM.JK      0\n",
            "ARTO.JK      0\n",
            "ASII.JK      0\n",
            "BBCA.JK      0\n",
            "BBNI.JK      0\n",
            "BBRI.JK      0\n",
            "BBTN.JK      0\n",
            "BMRI.JK      0\n",
            "BRIS.JK      0\n",
            "BRPT.JK      0\n",
            "CPIN.JK      0\n",
            "CTRA.JK      0\n",
            "ESSA.JK      0\n",
            "EXCL.JK      0\n",
            "GOTO.JK    556\n",
            "ICBP.JK      0\n",
            "INCO.JK      0\n",
            "INDF.JK      0\n",
            "INKP.JK      0\n",
            "ISAT.JK      0\n",
            "ITMG.JK      0\n",
            "JPFA.JK      0\n",
            "JSMR.JK      0\n",
            "KLBF.JK      0\n",
            "MAPA.JK      0\n",
            "MAPI.JK      0\n",
            "MBMA.JK    807\n",
            "MDKA.JK      0\n",
            "MEDC.JK      0\n",
            "PGAS.JK      0\n",
            "PGEO.JK    773\n",
            "PTBA.JK      0\n",
            "SIDO.JK      0\n",
            "SMGR.JK      0\n",
            "SMRA.JK      0\n",
            "TLKM.JK      0\n",
            "TOWR.JK      0\n",
            "UNTR.JK      0\n",
            "UNVR.JK      0\n",
            "dtype: int64\n",
            "\n",
            "✅ Setelah filter:\n",
            "Jumlah saham (kolom): 40\n",
            "Jumlah tanggal (baris): 1211\n",
            "\n",
            "Jumlah nilai null per saham setelah filter:\n",
            "ACES.JK    0\n",
            "ADRO.JK    0\n",
            "AKRA.JK    0\n",
            "AMRT.JK    0\n",
            "ANTM.JK    0\n",
            "ARTO.JK    0\n",
            "ASII.JK    0\n",
            "BBCA.JK    0\n",
            "BBNI.JK    0\n",
            "BBRI.JK    0\n",
            "BBTN.JK    0\n",
            "BMRI.JK    0\n",
            "BRIS.JK    0\n",
            "BRPT.JK    0\n",
            "CPIN.JK    0\n",
            "CTRA.JK    0\n",
            "ESSA.JK    0\n",
            "EXCL.JK    0\n",
            "ICBP.JK    0\n",
            "INCO.JK    0\n",
            "INDF.JK    0\n",
            "INKP.JK    0\n",
            "ISAT.JK    0\n",
            "ITMG.JK    0\n",
            "JPFA.JK    0\n",
            "JSMR.JK    0\n",
            "KLBF.JK    0\n",
            "MAPA.JK    0\n",
            "MAPI.JK    0\n",
            "MDKA.JK    0\n",
            "MEDC.JK    0\n",
            "PGAS.JK    0\n",
            "PTBA.JK    0\n",
            "SIDO.JK    0\n",
            "SMGR.JK    0\n",
            "SMRA.JK    0\n",
            "TLKM.JK    0\n",
            "TOWR.JK    0\n",
            "UNTR.JK    0\n",
            "UNVR.JK    0\n",
            "dtype: int64\n"
          ]
        },
        {
          "output_type": "stream",
          "name": "stderr",
          "text": [
            "<ipython-input-6-1812627551>:13: FutureWarning: DataFrame.fillna with 'method' is deprecated and will raise in a future version. Use obj.ffill() or obj.bfill() instead.\n",
            "  data.fillna(method='ffill', inplace=True)\n"
          ]
        }
      ]
    },
    {
      "cell_type": "code",
      "source": [
        "def preprocess_saham_for_svm(data, ticker, window_size=30):\n",
        "    scaler = MinMaxScaler()\n",
        "    scaled = scaler.fit_transform(data[[ticker]])\n",
        "\n",
        "    X, y = [], []\n",
        "    for i in range(window_size, len(scaled)):\n",
        "        X.append(scaled[i-window_size:i, 0])\n",
        "        y.append(scaled[i, 0])\n",
        "\n",
        "    X = np.array(X)\n",
        "    y = np.array(y)\n",
        "    return X, y, scaler"
      ],
      "metadata": {
        "id": "ifm8IZPvgagF"
      },
      "execution_count": null,
      "outputs": []
    },
    {
      "cell_type": "code",
      "source": [
        "results = []\n",
        "for ticker in data.columns:\n",
        "    try:\n",
        "        print(f\"Processing {ticker}...\")\n",
        "        X, y, scaler = preprocess_saham_for_svm(data, ticker, window_size=30)\n",
        "        X_train, X_test, y_train, y_test = train_test_split(X, y, test_size=0.2, shuffle=False)\n",
        "\n",
        "        model = RandomForestRegressor( n_estimators=100, max_depth=5, max_features='sqrt',random_state=42 )\n",
        "        model.fit(X_train, y_train)\n",
        "\n",
        "        y_pred = model.predict(X_test)\n",
        "\n",
        "        y_pred_actual = scaler.inverse_transform(y_pred.reshape(-1, 1)).flatten()\n",
        "        y_test_actual = scaler.inverse_transform(y_test.reshape(-1, 1)).flatten()\n",
        "\n",
        "        mse = mean_squared_error(y_test_actual, y_pred_actual)\n",
        "        mae = mean_absolute_error(y_test_actual, y_pred_actual)\n",
        "        rmse = np.sqrt(mean_squared_error(y_test_actual, y_pred_actual))\n",
        "        harga_rata2 = np.mean(y_test_actual)\n",
        "        mae_pct = (mae / harga_rata2) * 100\n",
        "        rmse_pct = (rmse / harga_rata2) * 100\n",
        "        r2 = r2_score(y_test_actual, y_pred_actual)\n",
        "\n",
        "        results.append({\n",
        "            'Saham': ticker,\n",
        "            'Harga Rata-rata': round(harga_rata2, 2),\n",
        "            'MAE': round(mae, 2),\n",
        "            'MAE (%)': round(mae_pct, 2),\n",
        "            'RMSE': round(rmse, 2),\n",
        "            'RMSE (%)': round(rmse_pct, 2),\n",
        "        })\n",
        "\n",
        "        # Simpan data terakhir untuk visualisasi\n",
        "        last_y_test_actual = y_test_actual\n",
        "        last_y_pred_actual = y_pred_actual\n",
        "        last_ticker = ticker\n",
        "\n",
        "        plt.figure(figsize=(10, 5))\n",
        "        plt.plot(y_test_actual, label='Aktual', color='blue')\n",
        "        plt.plot(y_pred_actual, label='Prediksi (Random Forest)', color='orange')\n",
        "        plt.title(f'Prediksi vs Aktual Harga Saham {ticker} dengan Random Forest')\n",
        "        plt.xlabel('Hari')\n",
        "        plt.ylabel('Harga')\n",
        "        plt.legend()\n",
        "        plt.grid(True)\n",
        "        plt.tight_layout()\n",
        "\n",
        "        # Simpan ke folder di Google Drive\n",
        "        # plt.savefig(os.path.join(plot_dir, f\"plot_{ticker}.png\"))\n",
        "        # plt.close()\n",
        "\n",
        "\n",
        "    except Exception as e:\n",
        "        print(f\"⚠️ Gagal memproses {ticker}: {e}\")"
      ],
      "metadata": {
        "colab": {
          "base_uri": "https://localhost:8080/"
        },
        "id": "56nAJTMHgf59",
        "outputId": "f1fe3782-5f04-4077-9192-191c334a5ee0"
      },
      "execution_count": null,
      "outputs": [
        {
          "output_type": "stream",
          "name": "stdout",
          "text": [
            "Processing ACES.JK...\n",
            "Processing ADRO.JK...\n",
            "Processing AKRA.JK...\n",
            "Processing AMRT.JK...\n",
            "Processing ANTM.JK...\n",
            "Processing ARTO.JK...\n",
            "Processing ASII.JK...\n",
            "Processing BBCA.JK...\n",
            "Processing BBNI.JK...\n",
            "Processing BBRI.JK...\n",
            "Processing BBTN.JK...\n",
            "Processing BMRI.JK...\n",
            "Processing BRIS.JK...\n",
            "Processing BRPT.JK...\n",
            "Processing CPIN.JK...\n",
            "Processing CTRA.JK...\n",
            "Processing ESSA.JK...\n",
            "Processing EXCL.JK...\n",
            "Processing ICBP.JK...\n",
            "Processing INCO.JK...\n",
            "Processing INDF.JK...\n",
            "Processing INKP.JK...\n",
            "Processing ISAT.JK...\n",
            "Processing ITMG.JK...\n",
            "Processing JPFA.JK...\n",
            "Processing JSMR.JK...\n",
            "Processing KLBF.JK...\n",
            "Processing MAPA.JK...\n",
            "Processing MAPI.JK...\n",
            "Processing MDKA.JK...\n",
            "Processing MEDC.JK...\n",
            "Processing PGAS.JK...\n",
            "Processing PTBA.JK...\n",
            "Processing SIDO.JK...\n",
            "Processing SMGR.JK...\n",
            "Processing SMRA.JK...\n",
            "Processing TLKM.JK...\n",
            "Processing TOWR.JK...\n",
            "Processing UNTR.JK...\n",
            "Processing UNVR.JK...\n"
          ]
        }
      ]
    },
    {
      "cell_type": "code",
      "source": [
        "results_df = pd.DataFrame(results)\n",
        "results_df = results_df.sort_values(by='MAE (%)')\n",
        "print(\"\\n=== Hasil Evaluasi Model Random Forest (Optimal) ===\")\n",
        "print(results_df)\n"
      ],
      "metadata": {
        "colab": {
          "base_uri": "https://localhost:8080/"
        },
        "id": "TfqYEgvwgkcl",
        "outputId": "3c8f77d0-3c2a-439b-8adb-e326ee5e120c"
      },
      "execution_count": null,
      "outputs": [
        {
          "output_type": "stream",
          "name": "stdout",
          "text": [
            "\n",
            "=== Hasil Evaluasi Model Random Forest (Optimal) ===\n",
            "      Saham  Harga Rata-rata      MAE  MAE (%)     RMSE  RMSE (%)\n",
            "6   ASII.JK          4470.30    70.43     1.58    88.76      1.99\n",
            "23  ITMG.JK         22656.39   390.68     1.72   494.90      2.18\n",
            "26  KLBF.JK          1507.56    28.20     1.87    36.91      2.45\n",
            "14  CPIN.JK          4872.64    95.22     1.95   119.18      2.45\n",
            "17  EXCL.JK          2173.61    42.32     1.95    54.70      2.52\n",
            "33  SIDO.JK           598.72    12.53     2.09    16.29      2.72\n",
            "21  INKP.JK          8348.87   194.07     2.32   247.75      2.97\n",
            "10  BBTN.JK          1251.61    32.61     2.61    42.04      3.36\n",
            "30  MEDC.JK          1237.13    34.63     2.80    43.58      3.52\n",
            "36  TLKM.JK          2898.22    84.64     2.92   111.00      3.83\n",
            "24  JPFA.JK          1350.98    39.67     2.94    54.57      4.04\n",
            "31  PGAS.JK          1255.99    37.45     2.98    49.12      3.91\n",
            "28  MAPI.JK          1616.93    49.40     3.06    64.27      3.98\n",
            "16  ESSA.JK           747.79    24.33     3.25    30.83      4.12\n",
            "13  BRPT.JK          1024.75    34.80     3.40    53.57      5.23\n",
            "35  SMRA.JK           569.12    19.64     3.45    23.71      4.17\n",
            "18  ICBP.JK         11161.56   402.44     3.61   550.60      4.93\n",
            "20  INDF.JK          6558.51   240.25     3.66   400.01      6.10\n",
            "3   AMRT.JK          2848.77   111.33     3.91   189.19      6.64\n",
            "29  MDKA.JK          2390.76    94.12     3.94   121.36      5.08\n",
            "0   ACES.JK           815.26    34.14     4.19    42.63      5.23\n",
            "19  INCO.JK          3950.33   171.22     4.33   215.83      5.46\n",
            "9   BBRI.JK          4583.54   201.56     4.40   286.76      6.26\n",
            "37  TOWR.JK           779.21    36.57     4.69    43.04      5.52\n",
            "38  UNTR.JK         22381.88  1088.63     4.86  1508.09      6.74\n",
            "32  PTBA.JK          2608.10   130.19     4.99   189.74      7.28\n",
            "5   ARTO.JK          2671.84   136.77     5.12   165.43      6.19\n",
            "12  BRIS.JK          2568.69   133.89     5.21   173.50      6.75\n",
            "8   BBNI.JK          4759.22   307.21     6.45   386.27      8.12\n",
            "22  ISAT.JK          2475.53   163.02     6.59   205.27      8.29\n",
            "25  JSMR.JK          4807.69   331.73     6.90   418.28      8.70\n",
            "4   ANTM.JK          1442.57   118.11     8.19   144.74     10.03\n",
            "15  CTRA.JK          1206.91   115.38     9.56   142.72     11.83\n",
            "7   BBCA.JK          9591.84   922.95     9.62  1012.87     10.56\n",
            "2   AKRA.JK          1429.06   150.92    10.56   172.38     12.06\n",
            "27  MAPA.JK           910.87   126.10    13.84   153.91     16.90\n",
            "11  BMRI.JK          5972.27   837.43    14.02   931.33     15.59\n",
            "1   ADRO.JK          1850.39   260.91    14.10   374.89     20.26\n",
            "39  UNVR.JK          2390.28   670.51    28.05   781.60     32.70\n",
            "34  SMGR.JK          4315.45  1384.46    32.08  1614.81     37.42\n"
          ]
        }
      ]
    },
    {
      "cell_type": "code",
      "source": [
        "actual_full = data[ticker].dropna().values.reshape(-1, 1)\n",
        "actual_cut = actual_full[-len(y_pred_actual):]\n",
        "\n",
        "plt.figure(figsize=(10, 5))\n",
        "plt.plot(actual_cut, label='Aktual', color='blue')\n",
        "plt.plot(y_pred_actual, label='Prediksi (SVM)', color='orange')\n",
        "plt.title(f'Prediksi vs Aktual Harga Saham {ticker} dengan SVM')\n",
        "plt.xlabel('Hari')\n",
        "plt.ylabel('Harga')\n",
        "plt.legend()\n",
        "plt.grid(True)\n",
        "plt.tight_layout()\n",
        "plt.show()"
      ],
      "metadata": {
        "colab": {
          "base_uri": "https://localhost:8080/",
          "height": 507
        },
        "id": "kuvYyUGngmuY",
        "outputId": "0abb7773-29ad-446e-980c-eeccb4496175"
      },
      "execution_count": null,
      "outputs": [
        {
          "output_type": "display_data",
          "data": {
            "text/plain": [
              "<Figure size 1000x500 with 1 Axes>"
            ],
            "image/png": "[encoded data removed]"
          },
          "metadata": {}
        }
      ]
    }
  ]
}